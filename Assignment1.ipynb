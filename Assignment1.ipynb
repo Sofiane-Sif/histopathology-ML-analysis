{
 "cells": [
  {
   "cell_type": "markdown",
   "metadata": {
    "id": "DgGc4qaTjPrU"
   },
   "source": [
    "Welcome to aasignment 1.                                                       \n",
    "\n",
    "We are using pathology images for our first assignment please download data from this link https://drive.google.com/drive/folders/10dUOzcPR-PQwfFYcHk5gsLjIjSorQ32Q?usp=sharing"
   ]
  },
  {
   "cell_type": "code",
   "execution_count": 1,
   "metadata": {},
   "outputs": [],
   "source": [
    "import warnings\n",
    "\n",
    "# To ignore all warnings\n",
    "warnings.filterwarnings(\"ignore\")"
   ]
  },
  {
   "cell_type": "markdown",
   "metadata": {
    "id": "4s4K2S-dhTnF"
   },
   "source": [
    "\n",
    "\n",
    "# Task 1: Feature Generation (15%)\n",
    "# Use and run the following code (a deep network) to generate features from a set of training images. For this assignment, you do not need to know how the deep network is working here to extract features.\n",
    "# This code extracts the features of image T4.tif (in the T folder of dataset). Modify the code so that it iterates over all images of the dataset and extracts their features.\n",
    "# Allocate 10% of the data for validation.\n",
    "\n",
    "# Insert your code here for Task 1\n",
    "\n",
    "\n",
    "\n"
   ]
  },
  {
   "cell_type": "code",
   "execution_count": null,
   "metadata": {
    "id": "94c_H8Yv7IDs"
   },
   "outputs": [],
   "source": [
    "import torch\n",
    "import torchvision.transforms as transforms\n",
    "from torchvision.models import densenet121\n",
    "from torch.autograd import Variable\n",
    "from PIL import Image\n",
    "import os\n",
    "import numpy as np\n",
    "\n",
    "# Load pre-trained DenseNet model\n",
    "model = densenet121(pretrained=True)\n",
    "\n",
    "# Remove the classification layer (last fully connected layer)\n",
    "model = torch.nn.Sequential(*list(model.children())[:-1])\n",
    "\n",
    "# Add a global average pooling layer\n",
    "model.add_module('global_avg_pool', torch.nn.AdaptiveAvgPool2d(1))\n",
    "\n",
    "# Set the model to evaluation mode\n",
    "model.eval()\n",
    "\n",
    "# Define the image preprocessing pipeline\n",
    "preprocess = transforms.Compose([\n",
    "    transforms.Resize(256),\n",
    "    transforms.CenterCrop(224),\n",
    "    transforms.ToTensor(),\n",
    "    transforms.Normalize(mean=[0.485, 0.456, 0.406], std=[0.229, 0.224, 0.225]),\n",
    "])\n",
    "\n",
    "# Set the path to the dataset folder\n",
    "dataset_folder = \"data\"\n",
    "\n",
    "features_list = list()\n",
    "labels_list = list()\n",
    "\n",
    "# Iterate over each subfolder (A to T)\n",
    "# Subfolder A = label 1, B = label 2, etc. \n",
    "for label, subfolder in enumerate(sorted(os.listdir(dataset_folder))):\n",
    "    subfolder_path = os.path.join(dataset_folder, subfolder)\n",
    "\n",
    "    # Check if it is a directory\n",
    "    if os.path.isdir(subfolder_path):\n",
    "        # List all image files in the subfolder\n",
    "        image_files = [f for f in os.listdir(subfolder_path) if f.endswith('.tif')]\n",
    "\n",
    "        # Iterate over each image in the subfolder\n",
    "        for image_file in image_files:\n",
    "            image_path = os.path.join(subfolder_path, image_file)\n",
    "\n",
    "            image = Image.open(image_path)\n",
    "            input_tensor = preprocess(image)\n",
    "            input_batch = input_tensor.unsqueeze(0)  # Add a batch dimension\n",
    "            input_var = Variable(input_batch)\n",
    "\n",
    "            # Forward pass through the model\n",
    "            features = model(input_var)\n",
    "            feature_vector = features.squeeze().detach().numpy()\n",
    "\n",
    "            # Append the feature vector and label to the lists\n",
    "            features_list.append(feature_vector)\n",
    "            labels_list.append(label)\n",
    "        \n",
    "\n",
    "features_array = np.array(features_list)\n",
    "labels_array = np.array(labels_list)\n",
    "\n",
    "# Save features and labels\n",
    "np.save(file=\"image_features.npy\", arr=features_array)\n",
    "np.save(file=\"image_labels.npy\", arr=labels_array)\n",
    "\n",
    "print(\"Image features shape:\", features_array.shape)  # shape (Number of images, Features dim)\n",
    "print(\"Image labels shape:\", labels_array.shape)  # shape (Number of images,) i.e one label per image\n"
   ]
  },
  {
   "cell_type": "code",
   "execution_count": 2,
   "metadata": {},
   "outputs": [
    {
     "name": "stdout",
     "output_type": "stream",
     "text": [
      "Training set shapes: (624, 1024) (624,)\n",
      "Validation set shapes: (78, 1024) (78,)\n",
      "Test set shapes: (78, 1024) (78,)\n"
     ]
    }
   ],
   "source": [
    "from sklearn.model_selection import train_test_split\n",
    "import numpy as np\n",
    "\n",
    "# Split ratio (Train, Valid, Test) 80:10:10\n",
    "\n",
    "features_array = np.load(\"image_features.npy\")\n",
    "labels_array = np.load(\"image_labels.npy\")\n",
    "\n",
    "features_train, features_temp, labels_train, labels_temp = train_test_split(\n",
    "    features_array, labels_array, test_size=0.2, random_state=42)\n",
    "\n",
    "features_valid, features_test, labels_valid, labels_test = train_test_split(\n",
    "    features_temp, labels_temp, test_size=0.5, random_state=42)\n",
    "\n",
    "# Print the shapes of the resulting arrays\n",
    "print(\"Training set shapes:\", features_train.shape, labels_train.shape)\n",
    "print(\"Validation set shapes:\", features_valid.shape, labels_valid.shape)\n",
    "print(\"Test set shapes:\", features_test.shape, labels_test.shape)\n"
   ]
  },
  {
   "cell_type": "markdown",
   "metadata": {
    "id": "2DguMbSShmHT"
   },
   "source": [
    "# Task 2: High Bias Classification Method (5%)\n",
    "# Choose a classification method and let is have a high bias.\n",
    "# Train it on the generated features and discuss why it is underfitting.\n",
    "\n",
    "# Insert your code here for Task 2\n",
    "\n",
    "\n"
   ]
  },
  {
   "cell_type": "code",
   "execution_count": null,
   "metadata": {
    "id": "xG7aIh1lhpW3"
   },
   "outputs": [],
   "source": []
  },
  {
   "cell_type": "markdown",
   "metadata": {
    "id": "kR8MxxoGhpxF"
   },
   "source": [
    "# Task 3: High Variance Classification Method (5%)\n",
    "# Use the chosen classification method and let it have a high variance.\n",
    "# Train it on the generated features and discuss why it is overfitting.\n",
    "\n",
    "# Insert your code here for Task 3\n",
    "\n",
    "\n"
   ]
  },
  {
   "cell_type": "code",
   "execution_count": null,
   "metadata": {
    "id": "TrsSDN_7huYB"
   },
   "outputs": [],
   "source": []
  },
  {
   "cell_type": "markdown",
   "metadata": {
    "id": "yzxSVPWXht-m"
   },
   "source": [
    "# Task 4: Balanced Classification Method (15%)\n",
    "# Use the chosen classification method and let it balance the bias and variance.\n",
    "# Train it on the generated features, possibly adjusting parameters.\n",
    "# Discuss insights into achieving balance.\n",
    "\n",
    "# Insert your code here for Task 4\n",
    "\n",
    "\n"
   ]
  },
  {
   "cell_type": "code",
   "execution_count": null,
   "metadata": {
    "id": "hjgmSxk7h7vZ"
   },
   "outputs": [],
   "source": []
  },
  {
   "cell_type": "markdown",
   "metadata": {
    "id": "ZKRG3PfFh8Ot"
   },
   "source": [
    "# Task 5: K-Means Clustering (20%)\n",
    "# Apply K-Means clustering on the generated features.\n",
    "# Test with available labels and report accuracy.\n",
    "# Experiment with automated K and compare with manually set 20 clusters.\n",
    "\n",
    "# Insert your code here for Task 5\n",
    "\n",
    "\n"
   ]
  },
  {
   "cell_type": "markdown",
   "metadata": {},
   "source": [
    "#### We start by training a first KMeans model with K=20 (number of classes in our dataset). As the clustering is arbitrary, we need map these clusters ids to the true class labels. To do this, we plot the confusion matrix and we reorder cluster ids using a voting method, i.e, we assign the cluster the label that is most frequent in that cluster."
   ]
  },
  {
   "cell_type": "code",
   "execution_count": 3,
   "metadata": {
    "id": "VLuOkJyAh-mN"
   },
   "outputs": [
    {
     "data": {
      "image/png": "[encoded data removed]",
      "text/plain": [
       "<Figure size 640x480 with 2 Axes>"
      ]
     },
     "metadata": {},
     "output_type": "display_data"
    }
   ],
   "source": [
    "from sklearn.cluster import KMeans\n",
    "from sklearn.metrics import ConfusionMatrixDisplay\n",
    "import matplotlib.pyplot as plt\n",
    "\n",
    "n_classes = 20 # number of classes in the dataset\n",
    "kmeans = KMeans(n_clusters=n_classes, random_state=42)\n",
    "kmeans.fit(features_train)\n",
    "\n",
    "predicted_labels_train = kmeans.predict(features_train)\n",
    "\n",
    "# Confusion matrix for cluster reordering \n",
    "ConfusionMatrixDisplay.from_predictions(\n",
    "    labels_train, \n",
    "    predicted_labels_train, \n",
    "    labels=np.unique(labels_array)\n",
    ")\n",
    "\n",
    "plt.title(\"Confusion matrix for reordering cluster ids\")\n",
    "plt.show()"
   ]
  },
  {
   "cell_type": "code",
   "execution_count": 4,
   "metadata": {},
   "outputs": [],
   "source": [
    "import numpy as np\n",
    "from scipy.stats import mode\n",
    "from sklearn.metrics import adjusted_rand_score, normalized_mutual_info_score\n",
    "\n",
    "# Map cluster ids to true class labels using the majority voting approach\n",
    "def assign_labels_to_clusters(true_labels: np.ndarray, predicted_clusters: np.ndarray) -> np.ndarray:\n",
    "    \"\"\"\n",
    "    Reorder cluster ids by mapping cluster ids to true labels\n",
    "    \"\"\"\n",
    "    clusters_ids = np.unique(predicted_clusters)\n",
    "    clusters_reordered = np.zeros_like(predicted_clusters)\n",
    "\n",
    "    for cluster in clusters_ids:\n",
    "        mask = (predicted_clusters == cluster)\n",
    "        majority_label = mode(true_labels[mask], keepdims=True).mode[0]\n",
    "        clusters_reordered[mask] = majority_label\n",
    "\n",
    "    return clusters_reordered\n",
    "\n",
    "clusters_reordered = assign_labels_to_clusters(labels_train, predicted_labels_train)"
   ]
  },
  {
   "cell_type": "markdown",
   "metadata": {},
   "source": [
    "#### Once the KMeans clusters are reordered to correspond to their corresponding class labels, we can define the clustering accuracy, which is in the case the ratio between the number of correct predictions (knowing the true labels) by the total number of predictions  "
   ]
  },
  {
   "cell_type": "code",
   "execution_count": 5,
   "metadata": {},
   "outputs": [
    {
     "name": "stdout",
     "output_type": "stream",
     "text": [
      "The accuracy of the KMeans clustering with K=20 on the train set is: 79.65 %\n"
     ]
    }
   ],
   "source": [
    "def classification_accuracy(true_labels: np.ndarray, predicted_labels: np.ndarray) -> np.ndarray:\n",
    "    \"\"\"\n",
    "    Compute the accuracy of the clustering task in %\n",
    "    The accuracy of the clustering task is the ratio between the\n",
    "    number of correct predictions (knowing the true labels) by the total number of predictions \n",
    "    \"\"\"\n",
    "    correct_predictions = np.sum(np.array(true_labels) == np.array(predicted_labels))\n",
    "    total_samples = len(true_labels)\n",
    "    accuracy = (correct_predictions / total_samples) * 100.0\n",
    "    return accuracy\n",
    "\n",
    "print(f\"The accuracy of the KMeans clustering with K={n_classes} on the train set is: {round(classification_accuracy(labels_train, clusters_reordered),2)} %\")"
   ]
  },
  {
   "cell_type": "markdown",
   "metadata": {},
   "source": [
    "#### Then, we experiment different choice of K in order to find the number of clusters that maximizes the accuracy of the clustering task"
   ]
  },
  {
   "cell_type": "code",
   "execution_count": 6,
   "metadata": {},
   "outputs": [
    {
     "name": "stdout",
     "output_type": "stream",
     "text": [
      "Best choice of K: 18\n",
      "Accuracy with best K: 79.65 %\n"
     ]
    }
   ],
   "source": [
    "# Experiment with automated K\n",
    "k_range = range(1, 21)\n",
    "best_accuracy = 0\n",
    "best_k = 0\n",
    "accuracy_scores = list()\n",
    "\n",
    "# Iterate over different K values\n",
    "for k in k_range:\n",
    "    kmeans_auto = KMeans(n_clusters=k, random_state=42)\n",
    "    predicted_labels_auto = kmeans_auto.fit_predict(features_train)\n",
    "    clusters_ids_reorder = assign_labels_to_clusters(labels_train, predicted_labels_auto)\n",
    "    accuracy = classification_accuracy(labels_train, clusters_ids_reorder)\n",
    "\n",
    "\n",
    "    # Update best K if the current accuracy is higher\n",
    "    if accuracy > best_accuracy:\n",
    "        best_accuracy = accuracy\n",
    "        best_k = k\n",
    "    accuracy_scores.append(accuracy)\n",
    "\n",
    "# Report the best automated K and its accuracy\n",
    "print(f\"Best choice of K: {best_k}\")\n",
    "print(f\"Accuracy with best K: {round(best_accuracy,2)} %\")\n"
   ]
  },
  {
   "cell_type": "markdown",
   "metadata": {},
   "source": [
    "#### TODO (rephrase) - We plot a sort of \"elbow curve\" to visually assess the pertinence of the K parameter for the classification accuracy of our clustering task"
   ]
  },
  {
   "cell_type": "code",
   "execution_count": 7,
   "metadata": {},
   "outputs": [
    {
     "data": {
      "image/png": "[encoded data removed]",
      "text/plain": [
       "<Figure size 640x480 with 1 Axes>"
      ]
     },
     "metadata": {},
     "output_type": "display_data"
    }
   ],
   "source": [
    "plt.plot(np.unique(predicted_labels_train)+1, accuracy_scores, marker='o')\n",
    "plt.title('Clustering Accuracy vs. Number of Clusters')\n",
    "plt.xlabel('Number of Clusters')\n",
    "plt.ylabel('Clustering accuracy (in %)')\n",
    "plt.show()"
   ]
  },
  {
   "cell_type": "markdown",
   "metadata": {
    "id": "43sPfI7Jh-9p"
   },
   "source": [
    "# Task 6: Additional Clustering Algorithm (10%)\n",
    "# Choose another clustering algorithm and apply it on the features.\n",
    "# Test accuracy with available labels.\n",
    "\n",
    "# Insert your code here for Task 6\n",
    "\n",
    "\n"
   ]
  },
  {
   "cell_type": "code",
   "execution_count": 24,
   "metadata": {
    "id": "Nn9f41LWiCDr"
   },
   "outputs": [
    {
     "name": "stdout",
     "output_type": "stream",
     "text": [
      "Min sample: 1\n",
      "Epsilon: 10.0\n",
      "DBSCAN clustering accuracy on train set: 100.0 %\n"
     ]
    }
   ],
   "source": [
    "from sklearn.cluster import DBSCAN\n",
    "\n",
    "# TODO - Grid Search on DBSCAN params to find optimal classification accuracy\n",
    "param_grid = {\n",
    "    'eps': [0.1, 0.5, 1.0, 2.0, 5.0, 10.0],\n",
    "    'min_samples': [1, 2, 5, 8, 10, 15]\n",
    "}\n",
    "\n",
    "dbscan_accuracy = 0\n",
    "eps_initial = None\n",
    "min_samples_initial = None\n",
    "\n",
    "for eps in param_grid[\"eps\"]:\n",
    "    for min_samples in param_grid[\"min_samples\"]:\n",
    "        dbscan = DBSCAN(eps=eps, min_samples=min_samples)\n",
    "        dbscan_clusters = dbscan.fit_predict(features_train)\n",
    "        reordered_clusters_id = assign_labels_to_clusters(labels_train, dbscan_clusters)\n",
    "        current_accuracy = classification_accuracy(labels_train, reordered_clusters_id)\n",
    "\n",
    "        if current_accuracy > dbscan_accuracy:\n",
    "            dbscan_accuracy = current_accuracy\n",
    "            eps_initial = eps\n",
    "            min_samples_initial = min_samples\n",
    "\n",
    "print(\"Min sample:\", min_samples_initial)\n",
    "print(\"Epsilon:\", eps)\n",
    "print(f\"DBSCAN clustering accuracy on train set: {dbscan_accuracy} %\")"
   ]
  },
  {
   "cell_type": "code",
   "execution_count": 27,
   "metadata": {},
   "outputs": [
    {
     "data": {
      "text/plain": [
       "90.7051282051282"
      ]
     },
     "execution_count": 27,
     "metadata": {},
     "output_type": "execute_result"
    }
   ],
   "source": [
    "dbscan = DBSCAN(eps=10, min_samples=1)\n",
    "dbscan_clusters = dbscan.fit_predict(features_train)\n",
    "reordered_clusters_id = assign_labels_to_clusters(labels_train, dbscan_clusters)\n",
    "current_accuracy = classification_accuracy(labels_train, reordered_clusters_id)\n",
    "current_accuracy"
   ]
  },
  {
   "cell_type": "markdown",
   "metadata": {},
   "source": [
    "#### DBSCABN found 20 classes without any specification on the number of cluster by the user's!"
   ]
  },
  {
   "cell_type": "code",
   "execution_count": 28,
   "metadata": {},
   "outputs": [
    {
     "data": {
      "text/plain": [
       "array([ 1,  2,  3,  4,  5,  6,  7,  8,  9, 10, 11, 12, 13, 14, 15, 16, 17,\n",
       "       18, 19, 20])"
      ]
     },
     "execution_count": 28,
     "metadata": {},
     "output_type": "execute_result"
    }
   ],
   "source": [
    "np.unique(reordered_clusters_id)"
   ]
  },
  {
   "cell_type": "markdown",
   "metadata": {
    "id": "3fPfoBsaiCXu"
   },
   "source": [
    "# Task 7: PCA for Classification Improvement (20%)\n",
    "# Apply PCA on the features and then feed them to the best classification method in the above tasks.\n",
    "# Assess if PCA improves outcomes and discuss the results.\n",
    "\n",
    "# Insert your code here for Task 7\n",
    "\n",
    "\n"
   ]
  },
  {
   "cell_type": "markdown",
   "metadata": {},
   "source": [
    "#### We reduce the dimensionality of our feature space from 1024 to 50 using PCA. We then feed the reduced features into the KMeans with 20 classes for Task 5. We observe that the PCA improves our classification accuracy!"
   ]
  },
  {
   "cell_type": "code",
   "execution_count": null,
   "metadata": {
    "id": "RoOFXhdmiHeD"
   },
   "outputs": [],
   "source": [
    "from sklearn.decomposition import PCA\n",
    "\n",
    "pca = PCA(n_components=50, random_state=42) # reduce features space from 1024 to 50 dimensions\n",
    "\n",
    "# Apply PCA on features from train set\n",
    "features_train_pca = pca.fit_transform(features_train)\n",
    "\n",
    "# Train a new KMeans model on these reduced features (dim=50)\n",
    "kmeans_pca = KMeans(n_clusters=n_classes, random_state=42)\n",
    "clustered_pca_features = kmeans_pca.fit_predict(features_train_pca)\n",
    "\n",
    "reordered_clusters_id = assign_labels_to_clusters(labels_train, clustered_pca_features)\n",
    "\n",
    "pca_accuracy = classification_accuracy(labels_train ,reordered_clusters_id)\n",
    "print(f\"KMeans accuracy after PCA dimensionality reduction: {round(pca_accuracy,2)}%\") # Score increases!\n"
   ]
  },
  {
   "cell_type": "markdown",
   "metadata": {
    "id": "UQqNra7eiHx-"
   },
   "source": [
    "# Task 8: Visualization and Analysis (10%)\n",
    "# Plot the features in a lower dimension using dimentinality reduction techniques.\n",
    "# Analyze the visual representation, identifying patterns or insights.\n",
    "\n",
    "# Insert your code here for Task 8"
   ]
  },
  {
   "cell_type": "markdown",
   "metadata": {},
   "source": [
    "#### In order to visualize our feature space (of dimension 1024), we need to reduce the dimensionality of the features. We do that using tSNE and plot the data in 2D"
   ]
  },
  {
   "cell_type": "code",
   "execution_count": null,
   "metadata": {
    "id": "1npTL_NkjNdL"
   },
   "outputs": [],
   "source": [
    "from sklearn.manifold import TSNE\n",
    "import matplotlib.pyplot as plt\n",
    "from matplotlib.colors import ListedColormap, BoundaryNorm\n",
    "\n",
    "# Apply t-SNE for dimensionality reduction and visualization\n",
    "tsne = TSNE(n_components=2, random_state=42)\n",
    "features_tsne = tsne.fit_transform(features_train)\n",
    "\n",
    "# Define the discrete colormap with integer values\n",
    "cmap_discrete = ListedColormap(plt.cm.tab20.colors[:20])\n",
    "norm_discrete = BoundaryNorm(range(1, 21), cmap_discrete.N)\n",
    "\n",
    "# Plot the features in a lower dimension using t-SNE with the discrete colormap\n",
    "plt.figure(figsize=(10, 8))\n",
    "scatter = plt.scatter(features_tsne[:, 0], features_tsne[:, 1], c=labels_train, cmap=cmap_discrete, alpha=0.7)\n",
    "plt.title('t-SNE Visualization of Features colored by class labels')\n",
    "plt.xlabel('t-SNE Component 1')\n",
    "plt.ylabel('t-SNE Component 2')\n",
    "plt.colorbar(scatter, ticks=range(1, 21), label='Class Labels')\n",
    "plt.show()\n"
   ]
  },
  {
   "cell_type": "markdown",
   "metadata": {},
   "source": [
    "#### We observe that class 1 and class 4 are very close in this plot, which shows how close they are to each other in the feature space. These two classes probably represent the same pathology or similar pathologies. Moreover, the classes 13, 3 and 10 are quite close to each other, which suggest that they might also represent similar pathologies. "
   ]
  },
  {
   "cell_type": "code",
   "execution_count": null,
   "metadata": {},
   "outputs": [],
   "source": [
    "clusters_validset = kmeans_pca.predict(pca.transform(features_valid))\n",
    "\n",
    "reordered_valid_clusters_id = assign_labels_to_clusters(labels_valid, clusters_validset)\n",
    "\n",
    "validset_accuracy = classification_accuracy(labels_valid, reordered_valid_clusters_id)\n",
    "print(f\"The accuracy on the valid set by using first PCA is : {round(validset_accuracy,2)} %\")"
   ]
  },
  {
   "cell_type": "code",
   "execution_count": null,
   "metadata": {},
   "outputs": [],
   "source": [
    "clusters_validset = kmeans.predict(features_valid)\n",
    "\n",
    "reordered_valid_clusters_id = assign_labels_to_clusters(labels_valid, clusters_validset)\n",
    "\n",
    "validset_accuracy = classification_accuracy(labels_valid, reordered_valid_clusters_id)\n",
    "print(f\"The accuracy on the valid set is : {round(validset_accuracy,2)} %\")"
   ]
  },
  {
   "cell_type": "code",
   "execution_count": null,
   "metadata": {},
   "outputs": [],
   "source": []
  },
  {
   "cell_type": "code",
   "execution_count": null,
   "metadata": {},
   "outputs": [],
   "source": []
  },
  {
   "cell_type": "code",
   "execution_count": null,
   "metadata": {},
   "outputs": [],
   "source": []
  },
  {
   "cell_type": "code",
   "execution_count": null,
   "metadata": {},
   "outputs": [],
   "source": []
  },
  {
   "cell_type": "code",
   "execution_count": null,
   "metadata": {},
   "outputs": [],
   "source": []
  },
  {
   "cell_type": "code",
   "execution_count": null,
   "metadata": {},
   "outputs": [],
   "source": []
  },
  {
   "cell_type": "code",
   "execution_count": null,
   "metadata": {},
   "outputs": [],
   "source": []
  },
  {
   "cell_type": "code",
   "execution_count": null,
   "metadata": {},
   "outputs": [],
   "source": []
  }
 ],
 "metadata": {
  "colab": {
   "provenance": []
  },
  "kernelspec": {
   "display_name": "Python 3 (ipykernel)",
   "language": "python",
   "name": "python3"
  },
  "language_info": {
   "codemirror_mode": {
    "name": "ipython",
    "version": 3
   },
   "file_extension": ".py",
   "mimetype": "text/x-python",
   "name": "python",
   "nbconvert_exporter": "python",
   "pygments_lexer": "ipython3",
   "version": "3.10.13"
  }
 },
 "nbformat": 4,
 "nbformat_minor": 4
}
